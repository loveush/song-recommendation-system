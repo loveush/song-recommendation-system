{
 "cells": [
  {
   "cell_type": "code",
   "execution_count": 19,
   "id": "ee4a6d09",
   "metadata": {},
   "outputs": [],
   "source": [
    "from pyspark.sql.functions import rand, udf, col, lower, split\n",
    "from pyspark.sql import SparkSession\n",
    "from pyspark.sql.types import StringType, ArrayType, FloatType, DoubleType\n",
    "import re\n",
    "import string\n",
    "from nltk.corpus import stopwords\n",
    "from nltk.stem import WordNetLemmatizer\n",
    "import nltk\n",
    "import string\n",
    "import contractions\n",
    "import inflect\n",
    "from pyspark.ml.feature import Word2Vec\n",
    "import numpy as np\n",
    "import pandas as pd\n",
    "from pyspark.ml.linalg import DenseVector\n",
    "from pyspark.sql.functions import lit, array"
   ]
  },
  {
   "cell_type": "code",
   "execution_count": 20,
   "id": "a06b961f",
   "metadata": {},
   "outputs": [],
   "source": [
    "from pyspark.sql import SparkSession\n",
    "\n",
    "spark = SparkSession.builder \\\n",
    "    .appName(\"Genius Songs Recommendation\") \\\n",
    "    .config(\"spark.executor.memory\", \"4g\") \\\n",
    "    .config(\"spark.driver.memory\", \"4g\") \\\n",
    "    .config(\"spark.sql.shuffle.partitions\", \"200\") \\\n",
    "    .getOrCreate()"
   ]
  },
  {
   "cell_type": "code",
   "execution_count": 21,
   "id": "b670b7c6",
   "metadata": {},
   "outputs": [
    {
     "data": {
      "text/html": [
       "\n",
       "            <div>\n",
       "                <p><b>SparkSession - in-memory</b></p>\n",
       "                \n",
       "        <div>\n",
       "            <p><b>SparkContext</b></p>\n",
       "\n",
       "            <p><a href=\"http://192.168.1.6:4041\">Spark UI</a></p>\n",
       "\n",
       "            <dl>\n",
       "              <dt>Version</dt>\n",
       "                <dd><code>v3.5.1</code></dd>\n",
       "              <dt>Master</dt>\n",
       "                <dd><code>local[*]</code></dd>\n",
       "              <dt>AppName</dt>\n",
       "                <dd><code>Genius Songs Recommendation</code></dd>\n",
       "            </dl>\n",
       "        </div>\n",
       "        \n",
       "            </div>\n",
       "        "
      ],
      "text/plain": [
       "<pyspark.sql.session.SparkSession at 0x7fc1639bcd30>"
      ]
     },
     "execution_count": 21,
     "metadata": {},
     "output_type": "execute_result"
    }
   ],
   "source": [
    "spark"
   ]
  },
  {
   "cell_type": "code",
   "execution_count": 22,
   "id": "b62a3198",
   "metadata": {},
   "outputs": [],
   "source": [
    "# Read the dataset\n",
    "data_path = \"hdfs://127.0.0.1:9000/user/loveushakovaa/song_lyrics.csv\"\n",
    "\n",
    "genius_song = (spark.read\n",
    "      .option(\"multiline\", \"true\")\n",
    "      .option(\"quote\", '\"')\n",
    "      .option(\"header\", \"true\")\n",
    "      .option(\"escape\", \"\\\\\")\n",
    "      .option(\"escape\", '\"')\n",
    "      .csv(data_path)\n",
    ")\n",
    "\n",
    "# data = genius_song.sample(fraction=0.2, seed=42)\n",
    "\n",
    "data = genius_song.orderBy(rand()).limit(10000)"
   ]
  },
  {
   "cell_type": "markdown",
   "id": "826dd7dc",
   "metadata": {},
   "source": [
    "# Data preprocessing"
   ]
  },
  {
   "cell_type": "code",
   "execution_count": 23,
   "id": "0f211579",
   "metadata": {},
   "outputs": [],
   "source": [
    "data = data.filter(genius_song['language'] == 'en')"
   ]
  },
  {
   "cell_type": "markdown",
   "id": "8336fb80",
   "metadata": {},
   "source": [
    "## Dropping non-relevant columns"
   ]
  },
  {
   "cell_type": "code",
   "execution_count": 24,
   "id": "4efe6d8d",
   "metadata": {},
   "outputs": [],
   "source": [
    "#data = data.cache()\n",
    "columns_to_drop = [\"language_ft\", \"language_cld3\"]\n",
    "data = data.drop(*columns_to_drop)\n",
    "data_original = data"
   ]
  },
  {
   "cell_type": "markdown",
   "id": "5fed0cf9",
   "metadata": {},
   "source": [
    "## Missing values"
   ]
  },
  {
   "cell_type": "code",
   "execution_count": 25,
   "id": "c48fec3a",
   "metadata": {},
   "outputs": [],
   "source": [
    "data = data.filter(data[\"title\"].isNotNull())\n",
    "data = data.filter(data[\"lyrics\"].isNotNull())\n",
    "data = data.fillna({'language': ''})"
   ]
  },
  {
   "cell_type": "markdown",
   "id": "b5d5f15b",
   "metadata": {},
   "source": [
    "## Remove duplicates"
   ]
  },
  {
   "cell_type": "code",
   "execution_count": 26,
   "id": "cba4b042",
   "metadata": {},
   "outputs": [],
   "source": [
    "data = data.dropDuplicates(['artist', 'title', 'year'])"
   ]
  },
  {
   "cell_type": "code",
   "execution_count": 27,
   "id": "696aef4a",
   "metadata": {},
   "outputs": [],
   "source": [
    "data = data.cache()\n",
    "data = data.repartition(200)"
   ]
  },
  {
   "cell_type": "code",
   "execution_count": 28,
   "id": "a56096a9",
   "metadata": {},
   "outputs": [],
   "source": [
    "# data.show(5, truncate=False)"
   ]
  },
  {
   "cell_type": "markdown",
   "id": "86435da4",
   "metadata": {},
   "source": [
    "## Relevant type"
   ]
  },
  {
   "cell_type": "code",
   "execution_count": 29,
   "id": "72c16c51",
   "metadata": {},
   "outputs": [],
   "source": [
    "data = data.withColumn(\"views\", col(\"views\").cast(\"int\"))"
   ]
  },
  {
   "cell_type": "code",
   "execution_count": 30,
   "id": "c1f5b169",
   "metadata": {},
   "outputs": [],
   "source": [
    "data = data.cache()\n",
    "data = data.repartition(200)"
   ]
  },
  {
   "cell_type": "code",
   "execution_count": 31,
   "id": "60e4bf9b",
   "metadata": {},
   "outputs": [
    {
     "name": "stderr",
     "output_type": "stream",
     "text": [
      "[Stage 16:=================================================>    (183 + 8) / 200]\r"
     ]
    },
    {
     "name": "stdout",
     "output_type": "stream",
     "text": [
      "+-------------------------------+----+-------------+----+-----+--------+----------------------------------------------------------------------------------------------------------------------------------------------------------------------------------------------------------------------------------------------------------------------------------------------------------------------------------------------------------------------------------------------------------------------------------------------------------------------------------------------------------------------------------------------------------------------------------------------------------------------------------------------------------------------------------------------------------------------------------------------------------------------------------------------------------------------------------------------------------------------------------------------------------------------------------------------------------------------------------------------------------------------------------------------------------------------------------------------------------------------------------------------------------------------------------------------------------------------------------------------------------------------------------------------------------------------------------------------------------------------------------------------------------------------------------------------------------------------------------------------------------------------------------------------------------------------------------------------------------------------------------------------------------------------------------------------------------------------------------------------------------------------------------------------------------------------------------------------------------------------------------------------------------------------------------------------------------------------------------------------------------------------------------------------------------------------------------------------------------------------------------------------------------------------------------------------------------------------------------------------------------------------------------------------------------------------------------------------------------------------------------------------------------------------------------------------------------------------------------------------------------------------------------------------------------------------------------------------------------------------------------------------------------------------------------------------------------------------------------------------------------------------------------------------------------------------------------------------------------------------------------------------------------------------------------------------------------------------------------------------------------------------------------------------------------------------------------------------------------------------------------------------------------------------------------------------------------------------------------------------------------------------------------------------------------------------------------------------------------------------------------------------------------------------------------------------------------------------------------------------------------------------------------------------------------------------------------------------------------------------------------------------------------------------------------------------------------------------------------------------------------------------------------------------------------------------------------------------------------------------------------------------------------------------------------------------------------------------------------------------------------------------------------------------------------------------------------------------------------------+-------+--------+\n",
      "|title                          |tag |artist       |year|views|features|lyrics                                                                                                                                                                                                                                                                                                                                                                                                                                                                                                                                                                                                                                                                                                                                                                                                                                                                                                                                                                                                                                                                                                                                                                                                                                                                                                                                                                                                                                                                                                                                                                                                                                                                                                                                                                                                                                                                                                                                                                                                                                                                                                                                                                                                                                                                                                                                                                                                                                                                                                                                                                                                                                                                                                                                                                                                                                                                                                                                                                                                                                                                                                                                                                                                                                                                                                                                                                                                                                                                                                                                                                                                                                                                                                                                                                                                                                                                                                                                                                                                                                                                                                          |id     |language|\n",
      "+-------------------------------+----+-------------+----+-----+--------+----------------------------------------------------------------------------------------------------------------------------------------------------------------------------------------------------------------------------------------------------------------------------------------------------------------------------------------------------------------------------------------------------------------------------------------------------------------------------------------------------------------------------------------------------------------------------------------------------------------------------------------------------------------------------------------------------------------------------------------------------------------------------------------------------------------------------------------------------------------------------------------------------------------------------------------------------------------------------------------------------------------------------------------------------------------------------------------------------------------------------------------------------------------------------------------------------------------------------------------------------------------------------------------------------------------------------------------------------------------------------------------------------------------------------------------------------------------------------------------------------------------------------------------------------------------------------------------------------------------------------------------------------------------------------------------------------------------------------------------------------------------------------------------------------------------------------------------------------------------------------------------------------------------------------------------------------------------------------------------------------------------------------------------------------------------------------------------------------------------------------------------------------------------------------------------------------------------------------------------------------------------------------------------------------------------------------------------------------------------------------------------------------------------------------------------------------------------------------------------------------------------------------------------------------------------------------------------------------------------------------------------------------------------------------------------------------------------------------------------------------------------------------------------------------------------------------------------------------------------------------------------------------------------------------------------------------------------------------------------------------------------------------------------------------------------------------------------------------------------------------------------------------------------------------------------------------------------------------------------------------------------------------------------------------------------------------------------------------------------------------------------------------------------------------------------------------------------------------------------------------------------------------------------------------------------------------------------------------------------------------------------------------------------------------------------------------------------------------------------------------------------------------------------------------------------------------------------------------------------------------------------------------------------------------------------------------------------------------------------------------------------------------------------------------------------------------------------------------------------+-------+--------+\n",
      "|What is Hell                   |rap |Prodbytomo   |2020|3    |{}      |Damn\\n\\n5 am again\\n\\nUsed to hate waking up\\n\\nSunrise my best friend\\n\\nNow\\n\\nHow\\n\\nThe fuck I get here\\n\\nLife tectonic plates\\n\\nSwear it shift weird\\n\\nBut why should I should I care\\n\\nA new day appears\\nGrindin wit my peers\\n\\nCan’t shed a tear\\n\\nToxic mindset\\n\\nBroken but I’m still growing\\n\\nAnd my skin glowin\\n\\n\\n\\n\\n\\nCookin beats\\n\\nMakin clothes\\n\\n\\n\\nMakin clothes\\n\\nCookin beats\\n\\nEveryday on repeat\\nI ain’t even change my sheets\\n\\nDamn I need to make time for myself\\n\\nSeem like lately I can only make time for my wealth\\n\\nWhat the hell\\n\\nWhat is hell\\n\\nIf I’m livin on еarth\\n\\nAnd A nigga livin well\\n\\nGod son said it ain’t hard to tell\\n\\nBut thesе thoughts I can never dispel\\n\\n\\n\\n\\n\\nFuck a hoe if she don’t love me\\n\\nCause I love me more\\nLate nights no one writes\\n\\nJust me and mi amor\\n\\nSwear I love I the green\\n\\nThis country really cursed me\\n\\nBut still ain’t reimburse me\\n\\nSo I need every penny\\n\\nTell em line the hearses\\n\\nAfter that the Bentleys\\n\\nA genius evidently\\n\\n\\n\\nIt’s still fuck English\\n\\nUse my own vocabulary\\n\\nThey try to say you talk white\\n\\nIf you talk right\\n\\nSo I use my own words When I rock mics\\n\\nIf you don’t understand it\\n\\nThen go kill yourself\\n\\nDon’t let em tell you how to live\\n\\nNigga be yourself\\n\\nI say nigga\\n\\nCause a nigga how I see myself\\n\\nAnd that’s some real shit\\n\\n\\n\\nIf you a real nigga\\n\\nThen go get real rich\\n\\nGet ya lazy ass up\\n\\nAnd get ya moms a crib\\n\\nI ain’t say it’s easy\\n\\nCause it’s not bro\\n\\nWe still gon find a way to get up to the top tho\\n\\nIf that’s really yo brother\\n\\nDon’t let him rock bro\\n\\nLet him know when he wrong\\n\\nSo he don’t stop growing\\n\\nPut some bred up to the side keep the stock growing\\n\\nCause it’s all about the Benjamins baby\\n\\nAt this point only God can save me\\n\\nSo far gone like Aubrey tape is\\n\\nShit so hard only I can make this\\n\\nGotta thank God that my time ain’t taken\\n\\nCause I done seen nights where I ain’t think ima make it\\n\\nWhat you know bout gurneys\\n\\nAnd them ashy blankets\\n\\nThank the lord I ain't never seen them plastic anklets\\n\\n\\n\\nWhat you know them ashy blankets\\n\\nIthank the lord I ain't never seen them plastic\\n\\n\\n\\nUh\\n\\n\\n\\nWhat the hell\\n\\nWhat is hell\\n\\nIf I’m livin on earth\\n\\nAnd A nigga livin well\\n\\nGod son said its ain’t hard to tell\\n\\nBut these thoughts I can never dispel                                                                                                                                                                                                                                                                                                                                                                                                                                                                                                                                                                                                                                                                                                                                                                                                                                                                                                                                                                                                                                                                                                                                                                                                                                                                                                                                                                                                                                                                                                                                                                                                                                       |7026939|en      |\n",
      "|Single  Happy                  |rap |Rohail       |2014|675  |{}      |Uh\\nSpent so many days alone\\nI was stuck Marvin's Room\\nLike...\\nBut all that stuff, I stuffed that all\\nIn the garbage, and moved on\\nBecuz' I turned a bad experience\\nInto a good song, woo!\\nYeah, I'm good\\nGirl, I'm good\\nI wish the best for you and your latest\\nThat I ever could\\nNa, uh, uh!\\nI thinkin' of last week\\nIf you ask me now\\nGirl, I'm single & happy!\\n\\n(Chorus)\\n\\nCaught up on you for so long\\nBut now I think it's time to move on\\nBecuz' time is worth a lot\\nAnd girl you ain't worth my time\\nI ain't gonna be sad\\nOn what's left be-hind\\nI'm past all the past\\nOh, look at me now\\nI'm back on track\\nAnd I'm single and happy now\\n\\n(Verse 2)\\n\\nNow, I'm building up my buzz\\nTaper fade (hair)\\nI'm the FUTURE of this genre\\n\"HISTORY, Rohail' make\"\\nTurn it up loud till my neibors hate\\n808s take pain away\\nA lot to look back on\\nBut I to look foreword to greater days\\nDon't worry, I'm good\\nNot that you even would\\nI wish the best for you and your latest\\nThat I ever could\\nAnd, na, uh, uh!\\nI ain't thinkin' of last week\\nIf you ask me now\\nGirl, I'm single and happy!\\n(Chorus)\\n\\n(Bridge)\\n\\nWhere my single people at?\\nWhere my single people at?\\nUh, put your 1s up in the air\\nIf ya' got that S&H swag\\nI said I'm fine without all that\\nYeah, I'm fine without all that\\nBut I'd be lying if I said\\nThat I don't kinda want all that\\nBecuz' inside I still wish\\nYou felt the same way\\nYeah, I'd be lying if I said\\n\"I never wish it was me in his place\"                                                                                                                                                                                                                                                                                                                                                                                                                                                                                                                                                                                                                                                                                                                                                                                                                                                                                                                                                                                                                                                                                                                                                                                                                                                                                                                                                                                                                                                                                                                                                                                                                                                                                                                                                                                                                                                                                                                                                                                                                                                                                                                                                                                                                                                                                                                                                                                                                                                                                                                                                                      |82214  |en      |\n",
      "|The Limit Club                 |pop |The Damned   |1981|318  |{}      |I had a dream oh was it true\\nI saw the sun set low on you\\nIn a blood-red suns final rays\\nWith after night solo shadow plays\\nInto the world we started to run\\nLike bullets from a gun\\nWith passion and desire\\nLike two burning balls of fire\\n\\nAnd there is surely nothing else\\nThe gods have gotta keep on laughing\\nLaughing (x2)\\n\\nIf fools wanna dance let the music play\\nSo much unsung so much so say\\nLike velvet claws the night unfolds\\nIts secret bare, its story told\\nI had a friend, heaven and hell\\nHis life was short he lived it well\\nThe limits here, the time is now\\nI'd like to lead you better how\\nAnd there is surely nothing else\\nThe gods have gotta keep on laughing\\nLaughing (x8)\\n\\nAnd I don't want no feeling blue\\nCos I been loving too\\n(x2)\\nAnd so could you                                                                                                                                                                                                                                                                                                                                                                                                                                                                                                                                                                                                                                                                                                                                                                                                                                                                                                                                                                                                                                                                                                                                                                                                                                                                                                                                                                                                                                                                                                                                                                                                                                                                                                                                                                                                                                                                                                                                                                                                                                                                                                                                                                                                                                                                                                                                                                                                                                                                                                                                                                                                                                                                                                                                                                                                                                                                                                                                                                                                                                                                                                                                                                                                                                                                                                  |1505913|en      |\n",
      "|Fast Awake                     |rock|Bryde        |2018|341  |{}      |[1st Verse]\\nOh, it's a mistake\\nWhen I let you find me in this state\\nDrank the day into my body weight\\nFind me another love\\nWill you find me another love\\n\\n[Chorus]\\nAll these sirens take control\\nAs I spin from wall to wall\\nWe are fast awake\\nIn this hardest state\\nFrom those shoulders I can rest\\nFeel the racing of your chest\\nGet me out of here\\nCan I disappear\\nPull me to my feet\\n\\n[2nd Verse]\\nSomething changed my mind\\nMaybe I don't always want to do what's right\\nAll the heavens watching as we fight\\nSwim against the tide\\nAs we fight, we swim\\n[Chorus]\\nAll these sirens take control\\nAs I spin from wall to wall\\nWe are fast awake\\nIn this careless state\\nFrom those shoulders I can rest\\nFeel the racing of your chest\\nGet me out of here\\nCan I disappear\\nPull me to my feet\\n\\n[Outro]\\nAnd it won't be like this\\nWhen I see you made up, up, my weakness\\nI'll be dancing in my head through all my secrets\\nI'll be dancing in the meadow through this unrest\\n\\nAnd it won't be like this\\nWhen I see you made up, my weakness\\nI'll be dancing in the meadow through all my secrets\\nI'll be dancing in the meadow through my weakness\\n\\nAnd it won't be like this\\nWhen I see you in the meadow through all my secrets\\nI'll be dancing in the meadow through all my weakness                                                                                                                                                                                                                                                                                                                                                                                                                                                                                                                                                                                                                                                                                                                                                                                                                                                                                                                                                                                                                                                                                                                                                                                                                                                                                                                                                                                                                                                                                                                                                                                                                                                                                                                                                                                                                                                                                                                                                                                                                                                                                                                                                                                                                                                                                                                                                                                                                                                                                                                                                                                                                                                                                                                                                                          |3496318|en      |\n",
      "|Skin                           |pop |Ratcat       |1990|46   |{}      |The Pilot is high, the danger is low\\nCan't decide. Just which way to go\\nThe guns are going. BLAM, BLAM, BLAM\\nTwo somewhere else is worth none in the hand\\nThis world gets me down\\nShe loves me blind\\n\\nThe Magican is true, the illusion is real\\nSeeing's believing, touching's unreal\\nThe skin is soft and so fine\\nOne breath away from living or dying\\nThis world gets me down\\nShe loves me blind\\n\\nThe Gunslinger turns, the time has come\\nTo face death to see what's beyond\\nThe skin is soft and so fine\\nOne breath away from living or dying\\nThis world gets me down\\nShe loves me blind                                                                                                                                                                                                                                                                                                                                                                                                                                                                                                                                                                                                                                                                                                                                                                                                                                                                                                                                                                                                                                                                                                                                                                                                                                                                                                                                                                                                                                                                                                                                                                                                                                                                                                                                                                                                                                                                                                                                                                                                                                                                                                                                                                                                                                                                                                                                                                                                                                                                                                                                                                                                                                                                                                                                                                                                                                                                                                                                                                                                                                                                                                                                                                                                                                                                                                                                                                                                                                                                                                  |1465710|en      |\n",
      "|Dreamers Island                |pop |Abraxas      |2015|17   |{}      |Forgotten dreams lost inside\\nHide your tears from others pride\\nFeelings so cold habits grow old\\nLost my mind in emptiness\\nDispersing questions not answered at all\\nHunted by reality\\n\\n[Verse 1:]\\nFaced with ordinary life eye to eye with the truth\\nBoring jobs build a senseless world\\nTell me what can I do?\\n\\n[Bridge 1:]\\nLet these days pass by Don't believe a lie!\\nEscape from reality\\n\\n[Refrain:]\\nWelcome to dreamers island\\nLeave all your sorrows leave all your troubles behind\\nTravel to dreamers island start a new life!\\nBetter time will begin\\n[Verse 2:]\\nMy mind's full of Gods degrees\\nWill it be my destination?\\nPreachers word a better life will lead to dependence\\n\\n[Bridge 1:]\\nLet these days pass by Don't believe a lie!\\nEscape from reality\\n\\n[Refrain:]\\nWelcome to dreamers island\\nLeave all your sorrows leave all your troubles behind\\nTravel to dreamers island start a new life!\\nBetter time will begin\\n\\n[Bridge 1:]\\nLet these days pass by Don't believe a lie!\\nEscape from reality\\n\\n[Refrain:]\\nWelcome to dreamers island\\nLeave all your sorrows leave all your troubles behind\\nTravel to dreamers island start a new life!\\nBetter time will begin\\n[repeat till end]                                                                                                                                                                                                                                                                                                                                                                                                                                                                                                                                                                                                                                                                                                                                                                                                                                                                                                                                                                                                                                                                                                                                                                                                                                                                                                                                                                                                                                                                                                                                                                                                                                                                                                                                                                                                                                                                                                                                                                                                                                                                                                                                                                                                                                                                                                                                                                                                                                                                                                                                                                                                                                                                                                                                                                                                                                                                  |753352 |en      |\n",
      "|Doin’ Time Eerie Splendor Remix|pop |Sublime      |1997|762  |{}      |You know whats taking place?\\nCheck this out\\nThis is sublime\\nI'm mad lion for the borderline\\nThis is sublime\\nI'm mad lion for the borderline hey\\nSummertime and the livin's easy\\nBradley's on the microphone with ras-mg\\nAll the people in the dance will agree that we're well qualified to\\nRepresent\\nThe lbc\\nMe and louie we're gunna run to the party and dance till the rhythm it\\nGets\\nHarder\\nBa da ba bye bye\\nBa da ba bye bye\\nMe and my girl we got this relationship\\nI love her so bad but she treats me like shhh\\nAll locked down like a penitentiary\\nShe spreads her lovin all over and when she gets home there's none left\\nFor me\\nSummertime and the livin's easy\\nBradley's on the microphone with ras-mg\\nAll the people in the dance will agree that we're well qualified to\\nRepresent\\nThe lbc\\nMe and louie we're gunna run to the party and dance till the rhythm it\\nGets\\nHarder\\nWhen the music hits you shall feel no pain\\nTake a spliff of sensemillia make it run through your brain\\nMe and sublime we sound 1 - the same\\nTwo lions into the jungle that they just can't tame\\nSo bring all your people\\nAnd bring it\\nYou better take your lovin and fling it\\nYou better bring your lovin home\\nCome and love your maximo\\n24/7 say me can't sink so low\\nBa da ba bye bye\\nBa da ba bye bye\\nBa da ba bye bye\\nBa da ba bye bye\\nSo take this veil from off my eyes\\nMy burning sun will some day rise\\nAnd what am i gunna be doin for a wife\\nI said i'm gunna play with myself\\nShow them now we've come off the shelf\\nSummertime and the livin's easy\\nBradley's on the microphone with ras-mg\\nAll the people in the dance will agree that we're well qualified to\\nRepresent\\nThe lbc\\nMe and louie we're gunna run to the party and dance till the rhythm it\\nGets\\nHarder\\nEvil\\nEvil\\nTension\\nTension\\nHold her\\nWater\\nEvil come to tell you that she's evil most definitely\\nEvil, ornry scandalous and evil most definitely\\nThe tension is growing hotter i'd like to hold her head underwater\\nSummertime and the livin's easy\\nBradley's on the microphone with ras-mg\\nAll the people in the dance will agree that we're well qualified to\\nRepresent\\nThe lbc\\nMe and louie everybody run to the party and dance till the rhythm it gets\\nHarder\\nThis is sublime\\nHey\\nThis is sublime\\nI'm a lion                                                                                                                                                                                                                                                                                                                                                                                                                                                                                                                                                                                                                                                                                                                                                                                                                                                                                                                                                                                                                                                                                                                                                                                                                                                                                                                                                                                                                                                                                                                                                                                                                                                                                                                                        |1835234|en      |\n",
      "|Harassing Harris on Facebook   |misc|Aziz Ansari  |2010|40   |{}      |I found Harris to be most entertaining to me when he’s most angry at me and I found that the quickest way to get him crazy is to fuck with him on Facebook. He does not like it. He’s got his little updates meticulously planned like, “Just became a big fan of Will Smith” so I’ll write up there, “Fuck Will Smith!” And he’ll be like, “Why’d you do that?”\\n\\nAnd so one time I noticed he was posting a lot on a study group for his world history class and I was like, “I know what I’ll do, I’ll join the study group and I’ll write all this dumb shit on there, Harris will get really pissed and it’ll be awesome.” And that’s exactly how that shit went down. As soon as I started posting I started getting all these angry IM’s from Harris like, “Hey man, you need to get off the boards”. I’d be like, “Why?” And he’s like, “The Admins are getting on my case.” And he posts this conversation he has with the admin where the admin is like, “Hey Harris who’s Aziz?” and he’s like, “My cousin, why do you ask?” And he, goes “He’s posting on AP World wall, do you know what period he has AP World?” and Harris writes in all caps, “NOOOOOOO YOU GOTTA BOOT HIM NOW.” With like thirty O’s thirty W’s and fifty exclamation points. And other people are starting to get suspicious of my presence on the board as well only because I’m supposed to be in the ninth grade and I have a full beard. But I’m trying to act like I belong right like I’m in the class and I know what’s up. So I noticed some controversy about some quiz question and I said, “I know what I’ll do. I’ll go and independently do some research and I’ll post my findings on the board, they’ll think I’m smart and that I belong in the class.” So the next post I wrote was “Guys! I’ve been doing some research, I think the views on Christianity and Buddhism are far from similar and Buddhism salvation is something you can only achieve from the noble eightfold path where as in Christianity salvation is something to all those who accept Jesus Christ as their savior. Quote: “for whomever calls on the name of the Lord shall be saved.” Romans 10:13. I hate to say it guys but our teacher Mr. Edelstein is right.” BAM. And then I waited like two minutes and then I posted this, “Guys! I just got an email from Mr. Edelstein! He read what I wrote here and gave me an extra point on the quiz! He said I showed initiative and critical thinking skills. What a cool guy!” and then this kid replied, “ WHATTTTTT.” And then at this point Harris got fucking furious. He was like, “I don’t know if you should have posted that last wall post Aziz” and I was like, “Why?” He says, “What if people go in tomorrow and say, ‘Hey I heard you gave Aziz an extra point on the quiz can I get an extra point back too cause I put the same thing he did?’ and he’d be like, ‘I don’t teach Aziz that person doesn’t exist!’” And I was like, “Fuck you Harris! I do exist!” And then he starts attacking me publicly on the board like writing in all caps “AZIZ GET OUT THIS GROUP!!” With like a bunch of exclamation points and emoticons that are like (makes chomping noises). And I was like, “What’s that supposed to be Harris, you eating cinnabon all day?”\\n\\nAnd then I start mounting my offensive. I start poking him like crazy and sending him vampire requests, whatever the fuck that is, and he’s like, “I don’t know what’s going on.” And then he writes up there, he goes, “Hey everyone, if I were you I wouldn’t go to Edelstein and ask to get the points back because I’m positive you won’t get the points back.” And I respond like, (speaks in a snarky tone) “No guys, I just got another email from Edelstein again, you’ll definitely get the points back. Just mention my name and the fact that I exist.” Fuck you Harris! And then this kids writes, “You’re not even in this class, you’re the guy from that TV show.” And some other kid writes, “What TV show are you on? And I write “Gossip Girl!” and then I got kicked the fuck out.|2954596|en      |\n",
      "|Kickass                        |rock|Mystery Jets |2016|374  |{}      |When you're rolling on a high\\nAnd you fear that it won't last;\\nYou can always call me up\\nDon't be afraid to ask\\n\\nIf the world is feeling small\\nSo much it smothers you;\\nHold out\\nYou'll be surprised\\nTo see what you can live through\\n\\nIn your bedroom\\nSitting down\\nYou leave the world behind\\nDraw your velvet curtain shut\\nTo block out all the light\\n\\nIf it gets heavy and the noise\\nSuffocates your head\\nYou can always call me up\\nFor something to take off the edge\\nLet the light come flooding in\\nLet the light come flooding in\\nLet the light come flooding in\\nWon't you let the light come flooding in?\\nCome flooding in\\nLet the light come flooding in\\n\\nBut you are not alone\\nWe'll always be our own\\nWorst enemies\\nKill the demons in your head\\nWith kindness instead\\nThey're imaginary\\nYou'll finally adjust\\nFriends that you can trust\\nUnconditionally\\n\\nWhen you're rolling on a high\\nAnd you fear that it won't last;\\nYou can always call me up\\nTo come and kick you in the ass                                                                                                                                                                                                                                                                                                                                                                                                                                                                                                                                                                                                                                                                                                                                                                                                                                                                                                                                                                                                                                                                                                                                                                                                                                                                                                                                                                                                                                                                                                                                                                                                                                                                                                                                                                                                                                                                                                                                                                                                                                                                                                                                                                                                                                                                                                                                                                                                                                                                                                                                                                                                                                                                                                                                                                                                                                                                                                                                                                                                                                                                          |2871132|en      |\n",
      "|Worth It                       |rap |Boosie Badazz|2018|643  |{}      |[Intro]\\nI'ma send this song out to my baby mamas\\nThey probably mad at me right now\\nIt was all worth it\\n\\n[Chorus]\\nIt was all worth it (It was worth it)\\nBein’ called all them names by you\\nIt was all worth it (It was worth it)\\nMe tellin' lies and playin' games with you\\nShawty, it was all worth it (It was worth it, it was worth it)\\nGave me a baby that’s so perfect\\nSo it was all worth it (Anything you do is worth it)\\nIt was worth it, I deserve it\\n\\n[Verse 1]\\nLeavin' out the club, havin' fights with you ('Member we'd be fightin' at the club?)\\nFuck them other girls, I'm on a flight with you (Me and twin had some nights)\\nEven to this day, Trig'll fight with you (Damn, Trig)\\nSo glad I used no rubber, the night with you (For real, Trig)\\n’Cause y’all gave me Ty and Tooly, too (And my lil' nigga)\\nWe used to be so tight, now we super loose (Yeah, we used to be tight)\\nTold the world I wasn’t your daddy, that's how you do me, boo (That's how you do me)\\nI looked you in your eyes and made love to you\\nBut it was worth it\\n[Chorus]\\nIt was all worth it (It was worth it)\\nBein' called all them names by you\\nIt was all worth it (It was worth it)\\nMe tellin’ lies and playin' games with you\\nShawty, it was all worth it (It was worth it, it was worth it)\\nGave me a baby that's so perfect\\nSo it was all worth it (Anything you do is worth it)\\nIt was worth it, I deserve it\\n\\n[Verse 2]\\nCheatin' on Juanita in this life of sin\\nGirl, I made you strong for that man you with\\nProtectin' all my people in this life of sin\\nSay Lil Bleek, it was worth it, I'd do it again (Me or them)\\nIt was all worth it (It was worth it)\\nI was out my mind (Out my mind), went to the pen (I was crazy)\\nBut got smarter in time (Yeah)\\nFirst I said I didn't deserve it (I was like, \"I ain't deserve this\")\\nThen I came home smarter, richer, and wiser (Guess what, Mama?)\\nMama, it was all worth it (It was all worth it)\\nAll the pain God done put us through\\nIt was all worth it (It was all, it was worth it)\\n'Cause look what God done did for you\\nThis struggle, it was all worth it (My struggle, it was all worth it)\\nIt's all good girl, you can curse me, it's worth it\\nThem babies worth it\\n[Outro]\\nLeavin' out the club, havin' fights with you\\nFuck them other girls, I'm on a flight with you\\nEven to this day, just to fight with you\\nSo glad I used no rubber, the night with you\\nIt was worth it (It was all worth it)\\nYou can call me all my names\\nDo whatever you want\\nWhen I look at them babies, huh\\nAll this shit be worth it\\nWhen I look at them babies, I look at y'all\\nAnd I be, I be like damn, shit was worth it\\nShawty, it was all worth it (Anything that happened)\\nYou know, we can't overlap (Just to show you that you're perfect)\\nAnd she got a baby for it (Anything you do is worth it)\\nI won't tell you a thing, it was worth it                                                                                                                                                                                                                                                                                                                                                                                                                                                                                                                                                                                                                                                                                                                                                                                                                                                                                                                                                                                                                                                                                                                                               |4109292|en      |\n",
      "+-------------------------------+----+-------------+----+-----+--------+----------------------------------------------------------------------------------------------------------------------------------------------------------------------------------------------------------------------------------------------------------------------------------------------------------------------------------------------------------------------------------------------------------------------------------------------------------------------------------------------------------------------------------------------------------------------------------------------------------------------------------------------------------------------------------------------------------------------------------------------------------------------------------------------------------------------------------------------------------------------------------------------------------------------------------------------------------------------------------------------------------------------------------------------------------------------------------------------------------------------------------------------------------------------------------------------------------------------------------------------------------------------------------------------------------------------------------------------------------------------------------------------------------------------------------------------------------------------------------------------------------------------------------------------------------------------------------------------------------------------------------------------------------------------------------------------------------------------------------------------------------------------------------------------------------------------------------------------------------------------------------------------------------------------------------------------------------------------------------------------------------------------------------------------------------------------------------------------------------------------------------------------------------------------------------------------------------------------------------------------------------------------------------------------------------------------------------------------------------------------------------------------------------------------------------------------------------------------------------------------------------------------------------------------------------------------------------------------------------------------------------------------------------------------------------------------------------------------------------------------------------------------------------------------------------------------------------------------------------------------------------------------------------------------------------------------------------------------------------------------------------------------------------------------------------------------------------------------------------------------------------------------------------------------------------------------------------------------------------------------------------------------------------------------------------------------------------------------------------------------------------------------------------------------------------------------------------------------------------------------------------------------------------------------------------------------------------------------------------------------------------------------------------------------------------------------------------------------------------------------------------------------------------------------------------------------------------------------------------------------------------------------------------------------------------------------------------------------------------------------------------------------------------------------------------------------------------------------------------------+-------+--------+\n",
      "\n"
     ]
    },
    {
     "name": "stderr",
     "output_type": "stream",
     "text": [
      "\r",
      "                                                                                \r"
     ]
    }
   ],
   "source": [
    "# Sample the data to get 10 random rows\n",
    "random_rows = data.orderBy(rand()).limit(10)\n",
    "\n",
    "random_rows.show(truncate=False)"
   ]
  },
  {
   "cell_type": "markdown",
   "id": "ea8e8afb",
   "metadata": {},
   "source": [
    "## Preprocess the lyrics"
   ]
  },
  {
   "cell_type": "markdown",
   "id": "15856491",
   "metadata": {},
   "source": [
    "Remove noise"
   ]
  },
  {
   "cell_type": "code",
   "execution_count": 32,
   "id": "1d9bcdbe",
   "metadata": {},
   "outputs": [],
   "source": [
    "def remove_round_brackets(data):\n",
    "    return re.sub(r'\\(.*?\\)', '', data)\n",
    "remove_round_brackets_udf = udf(remove_round_brackets, StringType())\n",
    "\n",
    "def remove_punc(data):\n",
    "    trans = str.maketrans('', '', string.punctuation)\n",
    "    return data.translate(trans)\n",
    "remove_punc_udf = udf(remove_punc, StringType())\n",
    "\n",
    "def white_space(data):\n",
    "    return ' '.join(data.split())\n",
    "white_space_udf = udf(white_space, StringType())\n",
    "\n",
    "def complete_noise(data):\n",
    "    new_data = remove_round_brackets(data)\n",
    "    new_data = remove_punc(new_data)\n",
    "    new_data = white_space(new_data)\n",
    "    return new_data\n",
    "complete_noise_udf = udf(complete_noise, StringType())"
   ]
  },
  {
   "cell_type": "markdown",
   "id": "ab6fbf6b",
   "metadata": {},
   "source": [
    "Normalize, lemmatize"
   ]
  },
  {
   "cell_type": "code",
   "execution_count": 33,
   "id": "17995bcd",
   "metadata": {},
   "outputs": [],
   "source": [
    "# nltk.download('omw-1.4')\n",
    "# nltk.download('wordnet')\n",
    "# nltk.download('stopwords')\n",
    "\n",
    "def text_lower(data):\n",
    "    return data.lower()\n",
    "text_lower_udf = udf(text_lower, StringType())\n",
    "\n",
    "def contraction_replace(data):\n",
    "    return contractions.fix(data)\n",
    "contraction_replace_udf = udf(contraction_replace, StringType())\n",
    "\n",
    "def number_to_text(data):\n",
    "    temp_str = data.split()\n",
    "    string = []\n",
    "    for i in temp_str:\n",
    "        if i.isdigit():\n",
    "            temp = inflect.engine().number_to_words(i)\n",
    "            string.append(temp)\n",
    "        else:\n",
    "            string.append(i)\n",
    "    return ' '.join(string)\n",
    "number_to_text_udf = udf(number_to_text, StringType())\n",
    "\n",
    "def stopword(data):\n",
    "    clean = [word for word in data.split() if word.lower() not in stopwords.words('english')]\n",
    "    return ' '.join(clean)\n",
    "stopword_udf = udf(stopword, StringType())\n",
    "\n",
    "def lemmatization(data):\n",
    "    lemma = WordNetLemmatizer()\n",
    "    lemmas = [lemma.lemmatize(word, pos='v') for word in data.split()]\n",
    "    return ' '.join(lemmas)\n",
    "lemmatization_udf = udf(lemmatization, StringType())\n",
    "\n",
    "def normalization(data):\n",
    "    text = text_lower(data)\n",
    "    text = contraction_replace(text)\n",
    "    text = number_to_text(text)\n",
    "    text = stopword(text)\n",
    "    text = lemmatization(text)\n",
    "    return text\n",
    "normalization_udf = udf(normalization, StringType())"
   ]
  },
  {
   "cell_type": "markdown",
   "id": "b18ef28e",
   "metadata": {},
   "source": [
    "Apply"
   ]
  },
  {
   "cell_type": "code",
   "execution_count": 34,
   "id": "12bf455b",
   "metadata": {},
   "outputs": [],
   "source": [
    "data = data.withColumn(\"cleaned_lyrics\", complete_noise_udf(col(\"lyrics\")))"
   ]
  },
  {
   "cell_type": "code",
   "execution_count": 35,
   "id": "7cbeabcc",
   "metadata": {},
   "outputs": [],
   "source": [
    "data = data.withColumn(\"normalized_lyrics\", normalization_udf(col(\"cleaned_lyrics\")))"
   ]
  },
  {
   "cell_type": "markdown",
   "id": "d9726484",
   "metadata": {},
   "source": [
    "Tokenize"
   ]
  },
  {
   "cell_type": "code",
   "execution_count": 36,
   "id": "ecb0d28b",
   "metadata": {},
   "outputs": [],
   "source": [
    "data = data.withColumn(\"tokens\", split(col(\"normalized_lyrics\"), \" \"))"
   ]
  },
  {
   "cell_type": "code",
   "execution_count": 37,
   "id": "1dff709e",
   "metadata": {},
   "outputs": [],
   "source": [
    "# data.select('tokens').show(2, truncate=False)"
   ]
  },
  {
   "cell_type": "markdown",
   "id": "cee8416d",
   "metadata": {},
   "source": [
    "## Use Word2Vec to make vectors"
   ]
  },
  {
   "cell_type": "code",
   "execution_count": 38,
   "id": "c0214663",
   "metadata": {},
   "outputs": [
    {
     "name": "stderr",
     "output_type": "stream",
     "text": [
      "24/09/10 17:46:47 WARN InstanceBuilder: Failed to load implementation from:dev.ludovic.netlib.blas.JNIBLAS\n",
      "                                                                                \r"
     ]
    }
   ],
   "source": [
    "word2Vec = Word2Vec(vectorSize=200, minCount=3, inputCol=\"tokens\", outputCol=\"word_vectors\")\n",
    "model = word2Vec.fit(data)"
   ]
  },
  {
   "cell_type": "code",
   "execution_count": 39,
   "id": "ab7b332a",
   "metadata": {},
   "outputs": [],
   "source": [
    "data = model.transform(data)"
   ]
  },
  {
   "cell_type": "code",
   "execution_count": 40,
   "id": "b11134a3",
   "metadata": {},
   "outputs": [],
   "source": [
    "# data.show(2,truncate=False)"
   ]
  },
  {
   "cell_type": "code",
   "execution_count": 41,
   "id": "15b55ca8",
   "metadata": {},
   "outputs": [],
   "source": [
    "# data.printSchema()"
   ]
  },
  {
   "cell_type": "markdown",
   "id": "1bc3550e",
   "metadata": {},
   "source": [
    "## Cosine similarity"
   ]
  },
  {
   "cell_type": "code",
   "execution_count": 42,
   "id": "ec5c2710",
   "metadata": {},
   "outputs": [],
   "source": [
    "def cosine_similarity(v1, v2):\n",
    "    np_v1 = np.array(v1)\n",
    "    np_v2 = np.array(v2)\n",
    "    dot_product = np.dot(np_v1, np_v2)\n",
    "    norm_v1 = np.linalg.norm(np_v1)\n",
    "    norm_v2 = np.linalg.norm(np_v2)\n",
    "    similarity = dot_product / (norm_v1 * norm_v2)\n",
    "    return float(similarity)"
   ]
  },
  {
   "cell_type": "markdown",
   "id": "a43e6ae2",
   "metadata": {},
   "source": [
    "# User test"
   ]
  },
  {
   "cell_type": "code",
   "execution_count": 46,
   "id": "cc1eb157",
   "metadata": {},
   "outputs": [
    {
     "name": "stderr",
     "output_type": "stream",
     "text": [
      "                                                                                \r"
     ]
    },
    {
     "name": "stdout",
     "output_type": "stream",
     "text": [
      "Input song vector retrieved successfully.\n"
     ]
    }
   ],
   "source": [
    "user_input_id = '753352'\n",
    "\n",
    "input_song = data.filter(col(\"id\") == user_input_id).select('word_vectors').collect()\n",
    "\n",
    "# Check if the song was found\n",
    "if len(input_song) == 0:\n",
    "    raise ValueError(f\"Input song with ID '{user_input_id}' not found in the dataset.\")\n",
    "else:\n",
    "    input_song_vector = input_song[0]['word_vectors']\n",
    "    print(\"Input song vector retrieved successfully.\")\n",
    "\n",
    "# input_song_vector = data.select(\"word_vectors\").first()[0]"
   ]
  },
  {
   "cell_type": "code",
   "execution_count": 47,
   "id": "b2d6a813",
   "metadata": {},
   "outputs": [],
   "source": [
    "cosine_similarity_udf = udf(lambda v: float(cosine_similarity(v, input_song_vector)), DoubleType())\n",
    "\n",
    "similarities = data.withColumn(\"similarity\", cosine_similarity_udf(col(\"word_vectors\"))).select(\"id\", \"similarity\")"
   ]
  },
  {
   "cell_type": "code",
   "execution_count": 48,
   "id": "cf2f26ce",
   "metadata": {},
   "outputs": [
    {
     "name": "stderr",
     "output_type": "stream",
     "text": [
      "                                                                                \r"
     ]
    },
    {
     "name": "stdout",
     "output_type": "stream",
     "text": [
      "+-------+-------------------------+-----------------+----+----+------------------------------+-----+------------------+\n",
      "|id     |title                    |artist           |tag |year|features                      |views|similarity        |\n",
      "+-------+-------------------------+-----------------+----+----+------------------------------+-----+------------------+\n",
      "|3891719|Stranger Shores          |Dead Like Juliet |rock|2018|{}                            |552  |0.8130600470831991|\n",
      "|2322217|Channel                  |Bryan Divisions  |rap |2015|{}                            |107  |0.8134383984539044|\n",
      "|5742062|Thorazine or Mundicide   |The Mad Conductor|rap |2018|{\"The Stupid Stupid Henchmen\"}|19   |0.8002755417838202|\n",
      "|753352 |Dreamers Island          |Abraxas          |pop |2015|{}                            |17   |0.9999999999999999|\n",
      "|7213197|VINYL PLANTASY VII REMAKE|Leaf Plant       |rock|2021|{}                            |2    |0.8206038026337164|\n",
      "+-------+-------------------------+-----------------+----+----+------------------------------+-----+------------------+\n",
      "\n"
     ]
    }
   ],
   "source": [
    "top_5_recommendations = similarities.orderBy(col(\"similarity\").desc()).limit(5)\n",
    "\n",
    "recommended_songs = (\n",
    "    top_5_recommendations\n",
    "    .join(data, on='id', how='inner')\n",
    "    .select(\"id\", \"title\", \"artist\", \"tag\", \"year\", \"features\", \"views\", \"similarity\")\n",
    ")\n",
    "\n",
    "sorted_recommended_songs = recommended_songs.orderBy(col(\"views\").desc())\n",
    "\n",
    "sorted_recommended_songs.show(truncate=False)"
   ]
  },
  {
   "cell_type": "code",
   "execution_count": null,
   "id": "8f743333",
   "metadata": {},
   "outputs": [],
   "source": [
    "spark.stop()"
   ]
  },
  {
   "cell_type": "code",
   "execution_count": null,
   "id": "aa29598f",
   "metadata": {},
   "outputs": [],
   "source": []
  }
 ],
 "metadata": {
  "kernelspec": {
   "display_name": "Python 3 (ipykernel)",
   "language": "python",
   "name": "python3"
  },
  "language_info": {
   "codemirror_mode": {
    "name": "ipython",
    "version": 3
   },
   "file_extension": ".py",
   "mimetype": "text/x-python",
   "name": "python",
   "nbconvert_exporter": "python",
   "pygments_lexer": "ipython3",
   "version": "3.9.13"
  }
 },
 "nbformat": 4,
 "nbformat_minor": 5
}
